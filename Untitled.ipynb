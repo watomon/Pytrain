{
 "cells": [
  {
   "cell_type": "code",
   "execution_count": null,
   "metadata": {
    "collapsed": true
   },
   "outputs": [],
   "source": [
    "import numpy as np\n",
    "import matplotlib.pyplot as plt\n",
    "\n",
    "rng = np.random.RandomState(123)\n",
    "\n",
    "d = 2   #次元\n",
    "N = 10  # データ数\n",
    "mean = 5    #発火する平均の境界値\n",
    "\n",
    "\n",
    "x1 = rng.randn(N ,d) + np.array([0,0])\n",
    "x2 = rng.randn(N, d) + np.array([5,5])\n",
    "print(\"x1 is :\", x1)\n",
    "print(\"x2 is :\", x2)\n",
    "\n",
    "#データを一つの二次元配列(20*2)ににまとめる\n",
    "x = np.concatenate((x1, x2), axis = 0)\n",
    "print(\"x is :\", x)\n",
    "\n",
    "#描写\n",
    "#plt.plot(x ,\"o\")\n",
    "#plt.show()\n",
    "\n",
    "#重みとバイアスの初期化\n",
    "w = np.zeros(d)\n",
    "b = 0\n",
    "\n",
    "\n",
    "#現在の重みとバイアスを基に出力を返す\n",
    "def y(x):\n",
    "    return step(np.dot(w, x) + b)\n",
    "\n",
    "#ステップ関数（入力が０以上であれば１を返す関数）\n",
    "def step(x):\n",
    "    return 1 * (x > 0)\n",
    "\n",
    "#正しく分類分けできるか　ここでは１０個分ければおk\n",
    "def t(i):\n",
    "    if i > N :\n",
    "        return 0\n",
    "    else :\n",
    "        return 1\n",
    "\n",
    "\n",
    "while True:\n",
    "    classified = True\n",
    "    for i in range(N*2):\n",
    "        delta_w = (t(i) - y(x[i])) * x[i]  #ΔW = (t-y)x[i]\n",
    "        delta_b = t(i) - y(x[i])\n",
    "\n",
    "        w += delta_w\n",
    "        b += delta_b\n",
    "\n",
    "        classified *= (all(delta_w == 0) * (delta_b == 0))\n",
    "        print(delta_w,delta_b)\n",
    "    if classified:\n",
    "        break\n",
    "\n",
    "\n",
    "\n",
    "print(\"w:\", w)\n",
    "print(\"b:\", b)\n"
   ]
  }
 ],
 "metadata": {
  "kernelspec": {
   "display_name": "Python 3",
   "language": "python",
   "name": "python3"
  },
  "language_info": {
   "codemirror_mode": {
    "name": "ipython",
    "version": 3
   },
   "file_extension": ".py",
   "mimetype": "text/x-python",
   "name": "python",
   "nbconvert_exporter": "python",
   "pygments_lexer": "ipython3",
   "version": "3.6.3"
  }
 },
 "nbformat": 4,
 "nbformat_minor": 2
}
